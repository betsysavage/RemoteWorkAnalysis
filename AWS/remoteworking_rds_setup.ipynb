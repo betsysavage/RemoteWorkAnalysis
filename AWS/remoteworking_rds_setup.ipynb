{
  "cells": [
    {
      "cell_type": "code",
      "execution_count": 2,
      "metadata": {
        "colab": {
          "base_uri": "https://localhost:8080/"
        },
        "id": "Y6pz7LGh_L1p",
        "outputId": "336ddc71-9522-4df2-f54c-d2d57ae39fdd"
      },
      "outputs": [
        {
          "output_type": "stream",
          "name": "stdout",
          "text": [
            "\r0% [Working]\r            \rHit:1 http://security.ubuntu.com/ubuntu focal-security InRelease\n",
            "Hit:2 https://cloud.r-project.org/bin/linux/ubuntu focal-cran40/ InRelease\n",
            "Hit:3 https://developer.download.nvidia.com/compute/cuda/repos/ubuntu2004/x86_64  InRelease\n",
            "Hit:4 http://ppa.launchpad.net/c2d4u.team/c2d4u4.0+/ubuntu focal InRelease\n",
            "Hit:5 http://archive.ubuntu.com/ubuntu focal InRelease\n",
            "Hit:6 http://archive.ubuntu.com/ubuntu focal-updates InRelease\n",
            "Hit:7 http://ppa.launchpad.net/cran/libgit2/ubuntu focal InRelease\n",
            "Hit:8 http://archive.ubuntu.com/ubuntu focal-backports InRelease\n",
            "Hit:9 http://ppa.launchpad.net/deadsnakes/ppa/ubuntu focal InRelease\n",
            "Hit:10 http://ppa.launchpad.net/graphics-drivers/ppa/ubuntu focal InRelease\n",
            "Hit:11 http://ppa.launchpad.net/ubuntugis/ppa/ubuntu focal InRelease\n",
            "Reading package lists... Done\n"
          ]
        }
      ],
      "source": [
        "import os\n",
        "# Find the latest version of spark 3.0  from http://www.apache.org/dist/spark/ and enter as the spark version\n",
        "# For example:\n",
        "# spark_version = 'spark-3.3.2'\n",
        "spark_version = 'spark-3.3.2'\n",
        "os.environ['SPARK_VERSION']=spark_version\n",
        "\n",
        "# Install Spark and Java\n",
        "!apt-get update\n",
        "!apt-get install openjdk-11-jdk-headless -qq > /dev/null\n",
        "!wget -q http://www.apache.org/dist/spark/spark-3.3.2/spark-3.3.2-bin-hadoop3.tgz\n",
        "\n",
        "!tar xf spark-3.3.2-bin-hadoop3.tgz\n",
        "!pip install -q findspark\n",
        "\n",
        "# Set Environment Variables\n",
        "import os\n",
        "os.environ[\"JAVA_HOME\"] = \"/usr/lib/jvm/java-11-openjdk-amd64\"\n",
        "os.environ[\"SPARK_HOME\"] = f\"/content/spark-3.3.2-bin-hadoop3\"\n",
        "\n",
        "# Start a SparkSession\n",
        "import findspark\n",
        "findspark.init()"
      ]
    },
    {
      "cell_type": "code",
      "execution_count": 15,
      "metadata": {
        "id": "ngHyRDRUHtYu",
        "colab": {
          "base_uri": "https://localhost:8080/"
        },
        "outputId": "0650c324-c8b8-4405-d23c-3d2991d9e018"
      },
      "outputs": [
        {
          "output_type": "stream",
          "name": "stdout",
          "text": [
            "--2023-04-13 18:18:00--  https://jdbc.postgresql.org/download/postgresql-42.2.9.jar\n",
            "Resolving jdbc.postgresql.org (jdbc.postgresql.org)... 72.32.157.228, 2001:4800:3e1:1::228\n",
            "Connecting to jdbc.postgresql.org (jdbc.postgresql.org)|72.32.157.228|:443... connected.\n",
            "HTTP request sent, awaiting response... 200 OK\n",
            "Length: 914037 (893K) [application/java-archive]\n",
            "Saving to: ‘postgresql-42.2.9.jar.1’\n",
            "\n",
            "postgresql-42.2.9.j 100%[===================>] 892.61K  5.70MB/s    in 0.2s    \n",
            "\n",
            "2023-04-13 18:18:00 (5.70 MB/s) - ‘postgresql-42.2.9.jar.1’ saved [914037/914037]\n",
            "\n"
          ]
        }
      ],
      "source": [
        "!wget https://jdbc.postgresql.org/download/postgresql-42.2.9.jar"
      ]
    },
    {
      "cell_type": "code",
      "execution_count": 16,
      "metadata": {
        "id": "zGrOb-CgHtYv"
      },
      "outputs": [],
      "source": [
        "from pyspark.sql import SparkSession\n",
        "spark = SparkSession.builder.appName(\"RemoteWorking\").config(\"spark.driver.extraClassPath\",\"/content/postgresql-42.2.9.jar\").getOrCreate()"
      ]
    },
    {
      "cell_type": "code",
      "execution_count": 17,
      "metadata": {
        "id": "aIGU4Tzs_Q4g",
        "colab": {
          "base_uri": "https://localhost:8080/"
        },
        "outputId": "6554040e-baaf-4bfc-e30f-0008e8ddb751"
      },
      "outputs": [
        {
          "output_type": "stream",
          "name": "stdout",
          "text": [
            "+------------+----------+------+--------------------+--------------------+-------------+--------------------+--------------------+-----------------+\n",
            "|responder_id|birth_year|gender|       industry_desc|     occupation_desc|manage_others|           household|        years_at_job|metro_or_regional|\n",
            "+------------+----------+------+--------------------+--------------------+-------------+--------------------+--------------------+-----------------+\n",
            "|           0|      1972|Female|               Other|Clerical and admi...|           No|Couple with no de...|   More than 5 years|         Regional|\n",
            "|           1|      1972|  Male|               Other|            Managers|          Yes|Couple with depen...|   More than 5 years|            Metro|\n",
            "|           2|      1982|  Male|               Other|            Managers|          Yes|One  parent famil...|   More than 5 years|            Metro|\n",
            "|           3|      1987|Female|Professional, Sci...|       Professionals|           No|Couple with depen...|Between 1 and 5 y...|            Metro|\n",
            "|           4|      1991|  Male|               Other|            Managers|          Yes|Couple with no de...|   More than 5 years|            Metro|\n",
            "|           5|      1989|  Male|        Retail Trade|              Sales |           No|       Single person|Between 1 and 5 y...|            Metro|\n",
            "|           6|      1973|  Male|Financial and Ins...|Clerical and admi...|           No|Couple with depen...|   More than 5 years|            Metro|\n",
            "|           7|      1992|  Male|               Other|            Managers|          Yes|Couple with depen...|Between 6 and 12 ...|            Metro|\n",
            "|           8|      1977|  Male|               Other|Clerical and admi...|           No|       Single person|   More than 5 years|            Metro|\n",
            "|           9|      1985|  Male|               Other|            Managers|           No|     Group household|   More than 5 years|            Metro|\n",
            "+------------+----------+------+--------------------+--------------------+-------------+--------------------+--------------------+-----------------+\n",
            "only showing top 10 rows\n",
            "\n"
          ]
        }
      ],
      "source": [
        "from pyspark import SparkFiles\n",
        "# Load in respondents.csv from S3 into a DataFrame\n",
        "url = \"https://remoteworkbucket.s3.us-east-2.amazonaws.com/respondents.csv\"\n",
        "spark.sparkContext.addFile(url)\n",
        "\n",
        "respondents_df = spark.read.option('header', 'true').csv(SparkFiles.get(\"respondents.csv\"), inferSchema=True, sep=',', timestampFormat=\"mm/dd/yy\")\n",
        "respondents_df.show(10)"
      ]
    },
    {
      "cell_type": "code",
      "source": [
        "#from pyspark import SparkFiles\n",
        "# Load in orginizational_data.csv from S3 into a DataFrame\n",
        "url = \"https://remoteworkbucket.s3.us-east-2.amazonaws.com/orginizational_data.csv\"\n",
        "spark.sparkContext.addFile(url)\n",
        "\n",
        "orginization_df = spark.read.option('header', 'true').csv(SparkFiles.get(\"orginizational_data.csv\"), inferSchema=True, sep=',', timestampFormat=\"mm/dd/yy\")\n",
        "orginization_df.show(10)"
      ],
      "metadata": {
        "colab": {
          "base_uri": "https://localhost:8080/"
        },
        "id": "g6Lln_5ZmNjB",
        "outputId": "3fde8dc3-f4c3-495e-be0b-7f0539207c25"
      },
      "execution_count": 19,
      "outputs": [
        {
          "output_type": "stream",
          "name": "stdout",
          "text": [
            "+------------+------------------+--------------------+-------------------+-------------------+---------------------------+---------------------+---------------------------------+-------------------------------+----------------------------------------+\n",
            "|responder_id| organization_size|   org_encouraged_rw|org_prepared_for_rw|rw_is_common_at_org|rw_permission_is_attainable|rw_collaboration_easy|if_no_covid_employer_encourage_rw|if_no_covid_employer_support_rw|if_no_covid_i_would_have_choice_about_rw|\n",
            "+------------+------------------+--------------------+-------------------+-------------------+---------------------------+---------------------+---------------------------------+-------------------------------+----------------------------------------+\n",
            "|           0|Between 20 and 199|      Strongly agree|     Somewhat agree|     Somewhat agree|             Strongly agree|       Somewhat agree|                Somewhat disagree|              Somewhat disagree|                       Strongly disagree|\n",
            "|           1|   Between 1 and 4|      Somewhat agree|     Somewhat agree|     Somewhat agree|             Somewhat agree|       Somewhat agree|                   Somewhat agree|                 Somewhat agree|                          Somewhat agree|\n",
            "|           2|     More than 200|Neither agree nor...|     Somewhat agree|     Somewhat agree|       Neither agree nor...|       Somewhat agree|                   Somewhat agree|                 Somewhat agree|                          Somewhat agree|\n",
            "|           3|Between 20 and 199|      Strongly agree|  Somewhat disagree|     Somewhat agree|             Strongly agree|       Strongly agree|                   Somewhat agree|                 Strongly agree|                          Somewhat agree|\n",
            "|           4|  Between 5 and 19|   Somewhat disagree|     Somewhat agree|     Strongly agree|          Somewhat disagree|       Somewhat agree|                Strongly disagree|              Strongly disagree|                       Strongly disagree|\n",
            "|           5|Between 20 and 199|      Strongly agree|     Strongly agree|     Strongly agree|             Strongly agree|       Strongly agree|                   Somewhat agree|                 Somewhat agree|                          Somewhat agree|\n",
            "|           6|     More than 200|      Strongly agree|     Somewhat agree|     Strongly agree|          Strongly disagree|       Strongly agree|                   Somewhat agree|                 Strongly agree|                          Strongly agree|\n",
            "|           7|  Between 5 and 19|      Strongly agree|     Strongly agree|     Somewhat agree|             Somewhat agree|       Strongly agree|                   Somewhat agree|                 Somewhat agree|                          Strongly agree|\n",
            "|           8|     More than 200|      Strongly agree|     Somewhat agree|     Strongly agree|             Somewhat agree|       Somewhat agree|             Neither agree nor...|           Neither agree nor...|                       Somewhat disagree|\n",
            "|           9|     More than 200|      Strongly agree|     Somewhat agree|     Strongly agree|             Strongly agree| Neither agree nor...|                   Somewhat agree|                 Somewhat agree|                          Somewhat agree|\n",
            "+------------+------------------+--------------------+-------------------+-------------------+---------------------------+---------------------+---------------------------------+-------------------------------+----------------------------------------+\n",
            "only showing top 10 rows\n",
            "\n"
          ]
        }
      ]
    },
    {
      "cell_type": "code",
      "source": [
        "#from pyspark import SparkFiles\n",
        "# Load in time_management.csv from S3 into a DataFrame\n",
        "url = \"https://remoteworkbucket.s3.us-east-2.amazonaws.com/time_management.csv\"\n",
        "spark.sparkContext.addFile(url)\n",
        "\n",
        "time_df = spark.read.option('header', 'true').csv(SparkFiles.get(\"time_management.csv\"), inferSchema=True, sep=',', timestampFormat=\"mm/dd/yy\")\n",
        "time_df.show(10)"
      ],
      "metadata": {
        "colab": {
          "base_uri": "https://localhost:8080/"
        },
        "id": "_hFbLXGXmOoF",
        "outputId": "b15f3ff2-9057-4c1c-f4bb-78c18ee609ae"
      },
      "execution_count": 24,
      "outputs": [
        {
          "output_type": "stream",
          "name": "stdout",
          "text": [
            "+------------+------------------+----------------------------+------------------------------+-----------------------------+-------------------------+-----------------------+------------------------------------+----------------------------------------+----------------------+--------------------+---------------------------------+--------------------------------------+-----------------------+\n",
            "|responder_id|rw_percentage_2020|preferred_rw_percentage_2020|preferred_rw_percentage_future|productivity_remote_vs_office|inperson_hours__commuting|inperson_hours__working|inperson_hours__personal_family_time|inperson_hours_domestic_responsibilities|remote_hours_commuting|remote_hours_working|remote_hours_personal_family_time|remote_hours_domestic_responsibilities|commute_time_difference|\n",
            "+------------+------------------+----------------------------+------------------------------+-----------------------------+-------------------------+-----------------------+------------------------------------+----------------------------------------+----------------------+--------------------+---------------------------------+--------------------------------------+-----------------------+\n",
            "|           0|          4-5 days|                    4-5 days|                      4-5 days|         much more productive|                      2.0|                    8.0|                                 2.0|                                     2.0|                   0.5|                 8.0|                              3.5|                                   2.0|                    1.5|\n",
            "|           1|          1-2 days|                    1-2 days|                      1-2 days|              less productive|                      2.0|                    7.0|                                 3.0|                                     3.0|                   0.0|                 7.0|                              3.0|                                   3.0|                    2.0|\n",
            "|           2|          2-3 days|                    3-4 days|                      3-4 days|              less productive|                      6.0|                    1.0|                                 6.0|                                     5.0|                   5.0|                 2.0|                              7.0|                                   7.0|                    1.0|\n",
            "|           3|          4-5 days|                    4-5 days|                      4-5 days|            same productivity|                      1.0|                    9.0|                                 1.0|                                     2.0|                   0.0|                 9.0|                              3.0|                                   2.0|                    1.0|\n",
            "|           4|          4-5 days|                    4-5 days|                      3-4 days|              more productive|                      1.0|                    8.0|                                 3.5|                                     2.0|                   0.0|                 6.0|                              4.0|                                   3.0|                    1.0|\n",
            "|           5|          3-4 days|                    2-3 days|                      2-3 days|            same productivity|                      1.0|                    8.0|                                 2.0|                                     2.0|                   0.0|                 7.0|                              3.0|                                   3.0|                    1.0|\n",
            "|           6|          4-5 days|                    4-5 days|                      4-5 days|         much more productive|                      2.0|                    8.0|                                 4.0|                                     1.0|                   0.0|                 8.0|                              5.0|                                   3.0|                    2.0|\n",
            "|           7|          4-5 days|                    4-5 days|                      4-5 days|         much less productive|                      1.0|                    8.0|                                 4.0|                                     3.0|                   0.4|                 6.0|                              4.0|                                   6.0|                    0.6|\n",
            "|           8|          3-4 days|                    3-4 days|                      1-2 days|         much more productive|                      0.0|                    8.0|                                 3.5|                                     4.0|                   0.0|                 8.0|                              4.0|                                   1.0|                    0.0|\n",
            "|           9|          2-3 days|                    0-1 days|                      0-1 days|              less productive|                      3.0|                    8.5|                                 4.0|                                     2.0|                   1.0|                 8.5|                              6.0|                                   2.0|                    2.0|\n",
            "+------------+------------------+----------------------------+------------------------------+-----------------------------+-------------------------+-----------------------+------------------------------------+----------------------------------------+----------------------+--------------------+---------------------------------+--------------------------------------+-----------------------+\n",
            "only showing top 10 rows\n",
            "\n"
          ]
        }
      ]
    },
    {
      "cell_type": "code",
      "source": [
        "# Configure settings for RDS\n",
        "mode = \"append\"\n",
        "jdbc_url=\"jdbc:postgresql://remoteworking.ckzz8nmstjq2.us-east-2.rds.amazonaws.com:5432/RemoteWorking\"\n",
        "config = {\"user\":\"postgres\", \n",
        "          \"password\": \"<password>\", \n",
        "          \"driver\":\"org.postgresql.Driver\"}"
      ],
      "metadata": {
        "id": "T7x4e8MKmPC4"
      },
      "execution_count": 21,
      "outputs": []
    },
    {
      "cell_type": "code",
      "execution_count": 22,
      "metadata": {
        "id": "10qoqQv3_Y_w"
      },
      "outputs": [],
      "source": [
        "#write respondents df into respondents table in rds\n",
        "respondents_df.write.jdbc(url=jdbc_url, table= 'Respondents', mode=mode, properties= config)"
      ]
    },
    {
      "cell_type": "code",
      "execution_count": 23,
      "metadata": {
        "id": "SXtPi-Hw_dCe"
      },
      "outputs": [],
      "source": [
        "#write orginizational df into orginizational data table in rds\n",
        "orginization_df.write.jdbc(url=jdbc_url, table= 'Orginizational_Data', mode=mode, properties= config)"
      ]
    },
    {
      "cell_type": "code",
      "execution_count": 28,
      "metadata": {
        "id": "9b0dvAat_f7L"
      },
      "outputs": [],
      "source": [
        "#write df orginizational into time management table in rds\n",
        "time_df.write.jdbc(url=jdbc_url, table= 'Time_Management', mode=mode, properties= config)"
      ]
    },
    {
      "cell_type": "code",
      "execution_count": null,
      "metadata": {
        "id": "saJ1WiZb_ik6"
      },
      "outputs": [],
      "source": []
    },
    {
      "cell_type": "code",
      "execution_count": null,
      "metadata": {
        "id": "fOIS3viE_leJ"
      },
      "outputs": [],
      "source": []
    },
    {
      "cell_type": "code",
      "execution_count": null,
      "metadata": {
        "id": "K6_O84CK_nV5"
      },
      "outputs": [],
      "source": []
    },
    {
      "cell_type": "code",
      "execution_count": null,
      "metadata": {
        "id": "7mDI_Xg9_q8_"
      },
      "outputs": [],
      "source": []
    },
    {
      "cell_type": "code",
      "execution_count": null,
      "metadata": {
        "id": "CNKz5FHg_uV9"
      },
      "outputs": [],
      "source": []
    },
    {
      "cell_type": "code",
      "execution_count": null,
      "metadata": {
        "id": "Tvw--Ool_vju"
      },
      "outputs": [],
      "source": []
    }
  ],
  "metadata": {
    "colab": {
      "provenance": []
    },
    "kernelspec": {
      "display_name": "Python 3",
      "language": "python",
      "name": "python3"
    },
    "language_info": {
      "codemirror_mode": {
        "name": "ipython",
        "version": 3
      },
      "file_extension": ".py",
      "mimetype": "text/x-python",
      "name": "python",
      "nbconvert_exporter": "python",
      "pygments_lexer": "ipython3",
      "version": "3.7.7"
    },
    "latex_envs": {
      "LaTeX_envs_menu_present": true,
      "autoclose": false,
      "autocomplete": true,
      "bibliofile": "biblio.bib",
      "cite_by": "apalike",
      "current_citInitial": 1,
      "eqLabelWithNumbers": true,
      "eqNumInitial": 1,
      "hotkeys": {
        "equation": "Ctrl-E",
        "itemize": "Ctrl-I"
      },
      "labels_anchors": false,
      "latex_user_defs": false,
      "report_style_numbering": false,
      "user_envs_cfg": false
    }
  },
  "nbformat": 4,
  "nbformat_minor": 0
}