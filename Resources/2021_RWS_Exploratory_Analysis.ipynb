{
 "cells": [
  {
   "cell_type": "code",
   "execution_count": 2,
   "id": "73a26557",
   "metadata": {},
   "outputs": [],
   "source": [
    "import numpy as np\n",
    "import pandas as pd"
   ]
  },
  {
   "cell_type": "code",
   "execution_count": 3,
   "id": "d53d2118",
   "metadata": {},
   "outputs": [],
   "source": [
    "df_2021 = pd.read_csv('2021_rws.csv',encoding='cp1252')"
   ]
  },
  {
   "cell_type": "markdown",
   "id": "93d2567c",
   "metadata": {},
   "source": [
    "## Step 1: Examine overall dataset properties"
   ]
  },
  {
   "cell_type": "code",
   "execution_count": 4,
   "id": "10af0f34",
   "metadata": {},
   "outputs": [
    {
     "data": {
      "text/html": [
       "<div>\n",
       "<style scoped>\n",
       "    .dataframe tbody tr th:only-of-type {\n",
       "        vertical-align: middle;\n",
       "    }\n",
       "\n",
       "    .dataframe tbody tr th {\n",
       "        vertical-align: top;\n",
       "    }\n",
       "\n",
       "    .dataframe thead th {\n",
       "        text-align: right;\n",
       "    }\n",
       "</style>\n",
       "<table border=\"1\" class=\"dataframe\">\n",
       "  <thead>\n",
       "    <tr style=\"text-align: right;\">\n",
       "      <th></th>\n",
       "      <th>Response ID</th>\n",
       "      <th>What year were you born?</th>\n",
       "      <th>What is your gender?</th>\n",
       "      <th>How long have you been in your current job?  If you have more than one job, please answer all questions for your main job.</th>\n",
       "      <th>Which of the following best describes your industry?</th>\n",
       "      <th>Which of the following best describes your current occupation?</th>\n",
       "      <th>How many people are currently employed by your organisation?</th>\n",
       "      <th>Which of the following best describes your household?</th>\n",
       "      <th>Metro or Regional</th>\n",
       "      <th>Thinking about your current job, how much of your work time did you spend working remotely in the last quarter of last year?   This means October-December 2020  If you work a 5 day week, each day of remote working equals 20% of your time.</th>\n",
       "      <th>...</th>\n",
       "      <th>How strongly do you agree or disagree with the following statements?    - Offering remote work helps me retain employees</th>\n",
       "      <th>How strongly do you agree or disagree with the following statements?    - Offering remote work helps me to recruit employees</th>\n",
       "      <th>How strongly do you agree or disagree with the following statements?    - My team works well together when they work remotely</th>\n",
       "      <th>How strongly do you agree or disagree with the following statements?    - I find it easy to manage employees remotely (e.g. tasking and monitoring progress)</th>\n",
       "      <th>How strongly do you agree or disagree with the following statements?    - I find it easy to manage poor performers remotely</th>\n",
       "      <th>How strongly do you agree or disagree with the following statements?    - I feel well-prepared to manage employees remotely</th>\n",
       "      <th>How strongly do you agree or disagree with the following statements?    - Managing people remotely makes me more focused on results</th>\n",
       "      <th>How strongly do you agree or disagree with the following statements?    - I find it easy to contact my employees when they work remotely</th>\n",
       "      <th>This question is about your productivity. Productivity means what you produce for each hour that you work. It includes the amount of work you achieve each hour, and the quality of your work each hour.    Please compare your productivity when you work remotely to when you work at your employer’s workplace.    Roughly how productive are you, each hour, when you work remotely?</th>\n",
       "      <th>Now think about the productivity of the employees you manage.   Roughly how productive are the employees you manage, each hour, when they work remotely?</th>\n",
       "    </tr>\n",
       "  </thead>\n",
       "  <tbody>\n",
       "    <tr>\n",
       "      <th>0</th>\n",
       "      <td>1</td>\n",
       "      <td>1976</td>\n",
       "      <td>Male</td>\n",
       "      <td>More than 5 years</td>\n",
       "      <td>Other Services</td>\n",
       "      <td>Professionals - ICT Professionals</td>\n",
       "      <td>More than 200</td>\n",
       "      <td>Couple with dependent children</td>\n",
       "      <td>Metro</td>\n",
       "      <td>50% - I spent about half of my time remote wor...</td>\n",
       "      <td>...</td>\n",
       "      <td>NaN</td>\n",
       "      <td>NaN</td>\n",
       "      <td>NaN</td>\n",
       "      <td>NaN</td>\n",
       "      <td>NaN</td>\n",
       "      <td>NaN</td>\n",
       "      <td>NaN</td>\n",
       "      <td>NaN</td>\n",
       "      <td>I’m 50% more productive when working remotely ...</td>\n",
       "      <td>NaN</td>\n",
       "    </tr>\n",
       "    <tr>\n",
       "      <th>1</th>\n",
       "      <td>2</td>\n",
       "      <td>1971</td>\n",
       "      <td>Male</td>\n",
       "      <td>More than 5 years</td>\n",
       "      <td>Construction</td>\n",
       "      <td>Professionals - ICT Professionals</td>\n",
       "      <td>More than 200</td>\n",
       "      <td>Couple with no dependent children</td>\n",
       "      <td>Metro</td>\n",
       "      <td>10%</td>\n",
       "      <td>...</td>\n",
       "      <td>NaN</td>\n",
       "      <td>NaN</td>\n",
       "      <td>NaN</td>\n",
       "      <td>NaN</td>\n",
       "      <td>NaN</td>\n",
       "      <td>NaN</td>\n",
       "      <td>NaN</td>\n",
       "      <td>NaN</td>\n",
       "      <td>I’m 50% more productive when working remotely ...</td>\n",
       "      <td>NaN</td>\n",
       "    </tr>\n",
       "    <tr>\n",
       "      <th>2</th>\n",
       "      <td>3</td>\n",
       "      <td>1978</td>\n",
       "      <td>Female</td>\n",
       "      <td>Between 6 and 12 months</td>\n",
       "      <td>Financial and Insurance</td>\n",
       "      <td>Professionals - Business, Human Resource and M...</td>\n",
       "      <td>More than 200</td>\n",
       "      <td>Single person</td>\n",
       "      <td>Metro</td>\n",
       "      <td>100% - I spent all of my time remote working</td>\n",
       "      <td>...</td>\n",
       "      <td>NaN</td>\n",
       "      <td>NaN</td>\n",
       "      <td>NaN</td>\n",
       "      <td>NaN</td>\n",
       "      <td>NaN</td>\n",
       "      <td>NaN</td>\n",
       "      <td>NaN</td>\n",
       "      <td>NaN</td>\n",
       "      <td>My productivity is about same when I work remo...</td>\n",
       "      <td>NaN</td>\n",
       "    </tr>\n",
       "    <tr>\n",
       "      <th>3</th>\n",
       "      <td>4</td>\n",
       "      <td>1962</td>\n",
       "      <td>Female</td>\n",
       "      <td>Between 1 and 5 years</td>\n",
       "      <td>Health Care and Social Assistance</td>\n",
       "      <td>Professionals - Health Professionals</td>\n",
       "      <td>Between 20 and 199</td>\n",
       "      <td>One parent family with dependent children</td>\n",
       "      <td>Regional</td>\n",
       "      <td>40%</td>\n",
       "      <td>...</td>\n",
       "      <td>Neither agree nor disagree</td>\n",
       "      <td>Neither agree nor disagree</td>\n",
       "      <td>Neither agree nor disagree</td>\n",
       "      <td>Neither agree nor disagree</td>\n",
       "      <td>Neither agree nor disagree</td>\n",
       "      <td>Neither agree nor disagree</td>\n",
       "      <td>Neither agree nor disagree</td>\n",
       "      <td>Neither agree nor disagree</td>\n",
       "      <td>I’m 50% more productive when working remotely ...</td>\n",
       "      <td>I’m 50% more productive when working remotely ...</td>\n",
       "    </tr>\n",
       "    <tr>\n",
       "      <th>4</th>\n",
       "      <td>5</td>\n",
       "      <td>1974</td>\n",
       "      <td>Male</td>\n",
       "      <td>More than 5 years</td>\n",
       "      <td>Financial and Insurance</td>\n",
       "      <td>Managers - Specialist Managers</td>\n",
       "      <td>More than 200</td>\n",
       "      <td>Couple with dependent children</td>\n",
       "      <td>Regional</td>\n",
       "      <td>100% - I spent all of my time remote working</td>\n",
       "      <td>...</td>\n",
       "      <td>NaN</td>\n",
       "      <td>NaN</td>\n",
       "      <td>NaN</td>\n",
       "      <td>NaN</td>\n",
       "      <td>NaN</td>\n",
       "      <td>NaN</td>\n",
       "      <td>NaN</td>\n",
       "      <td>NaN</td>\n",
       "      <td>I’m 20% more productive when working remotely</td>\n",
       "      <td>NaN</td>\n",
       "    </tr>\n",
       "  </tbody>\n",
       "</table>\n",
       "<p>5 rows × 109 columns</p>\n",
       "</div>"
      ],
      "text/plain": [
       "   Response ID  What year were you born?   What is your gender?    \\\n",
       "0            1                        1976                   Male   \n",
       "1            2                        1971                   Male   \n",
       "2            3                        1978                 Female   \n",
       "3            4                        1962                 Female   \n",
       "4            5                        1974                   Male   \n",
       "\n",
       "  How long have you been in your current job?  If you have more than one job, please answer all questions for your main job.    \\\n",
       "0                                  More than 5 years                                                                             \n",
       "1                                  More than 5 years                                                                             \n",
       "2                            Between 6 and 12 months                                                                             \n",
       "3                              Between 1 and 5 years                                                                             \n",
       "4                                  More than 5 years                                                                             \n",
       "\n",
       "  Which of the following best describes your industry?    \\\n",
       "0                                     Other Services       \n",
       "1                                       Construction       \n",
       "2                            Financial and Insurance       \n",
       "3                  Health Care and Social Assistance       \n",
       "4                            Financial and Insurance       \n",
       "\n",
       "  Which of the following best describes your current occupation?    \\\n",
       "0                  Professionals - ICT Professionals                 \n",
       "1                  Professionals - ICT Professionals                 \n",
       "2  Professionals - Business, Human Resource and M...                 \n",
       "3               Professionals - Health Professionals                 \n",
       "4                     Managers - Specialist Managers                 \n",
       "\n",
       "  How many people are currently employed by your organisation?     \\\n",
       "0                                      More than 200                \n",
       "1                                      More than 200                \n",
       "2                                      More than 200                \n",
       "3                                 Between 20 and 199                \n",
       "4                                      More than 200                \n",
       "\n",
       "  Which of the following best describes your household?   Metro or Regional  \\\n",
       "0                     Couple with dependent children                  Metro   \n",
       "1                  Couple with no dependent children                  Metro   \n",
       "2                                      Single person                  Metro   \n",
       "3          One parent family with dependent children               Regional   \n",
       "4                     Couple with dependent children               Regional   \n",
       "\n",
       "  Thinking about your current job, how much of your work time did you spend working remotely in the last quarter of last year?   This means October-December 2020  If you work a 5 day week, each day of remote working equals 20% of your time.    \\\n",
       "0  50% - I spent about half of my time remote wor...                                                                                                                                                                                                 \n",
       "1                                                10%                                                                                                                                                                                                 \n",
       "2       100% - I spent all of my time remote working                                                                                                                                                                                                 \n",
       "3                                                40%                                                                                                                                                                                                 \n",
       "4       100% - I spent all of my time remote working                                                                                                                                                                                                 \n",
       "\n",
       "   ...  \\\n",
       "0  ...   \n",
       "1  ...   \n",
       "2  ...   \n",
       "3  ...   \n",
       "4  ...   \n",
       "\n",
       "  How strongly do you agree or disagree with the following statements?    - Offering remote work helps me retain employees  \\\n",
       "0                                                NaN                                                                         \n",
       "1                                                NaN                                                                         \n",
       "2                                                NaN                                                                         \n",
       "3                         Neither agree nor disagree                                                                         \n",
       "4                                                NaN                                                                         \n",
       "\n",
       "  How strongly do you agree or disagree with the following statements?    - Offering remote work helps me to recruit employees  \\\n",
       "0                                                NaN                                                                             \n",
       "1                                                NaN                                                                             \n",
       "2                                                NaN                                                                             \n",
       "3                         Neither agree nor disagree                                                                             \n",
       "4                                                NaN                                                                             \n",
       "\n",
       "  How strongly do you agree or disagree with the following statements?    - My team works well together when they work remotely  \\\n",
       "0                                                NaN                                                                              \n",
       "1                                                NaN                                                                              \n",
       "2                                                NaN                                                                              \n",
       "3                         Neither agree nor disagree                                                                              \n",
       "4                                                NaN                                                                              \n",
       "\n",
       "  How strongly do you agree or disagree with the following statements?    - I find it easy to manage employees remotely (e.g. tasking and monitoring progress)  \\\n",
       "0                                                NaN                                                                                                             \n",
       "1                                                NaN                                                                                                             \n",
       "2                                                NaN                                                                                                             \n",
       "3                         Neither agree nor disagree                                                                                                             \n",
       "4                                                NaN                                                                                                             \n",
       "\n",
       "  How strongly do you agree or disagree with the following statements?    - I find it easy to manage poor performers remotely  \\\n",
       "0                                                NaN                                                                            \n",
       "1                                                NaN                                                                            \n",
       "2                                                NaN                                                                            \n",
       "3                         Neither agree nor disagree                                                                            \n",
       "4                                                NaN                                                                            \n",
       "\n",
       "  How strongly do you agree or disagree with the following statements?    - I feel well-prepared to manage employees remotely  \\\n",
       "0                                                NaN                                                                            \n",
       "1                                                NaN                                                                            \n",
       "2                                                NaN                                                                            \n",
       "3                         Neither agree nor disagree                                                                            \n",
       "4                                                NaN                                                                            \n",
       "\n",
       "  How strongly do you agree or disagree with the following statements?    - Managing people remotely makes me more focused on results  \\\n",
       "0                                                NaN                                                                                    \n",
       "1                                                NaN                                                                                    \n",
       "2                                                NaN                                                                                    \n",
       "3                         Neither agree nor disagree                                                                                    \n",
       "4                                                NaN                                                                                    \n",
       "\n",
       "  How strongly do you agree or disagree with the following statements?    - I find it easy to contact my employees when they work remotely  \\\n",
       "0                                                NaN                                                                                         \n",
       "1                                                NaN                                                                                         \n",
       "2                                                NaN                                                                                         \n",
       "3                         Neither agree nor disagree                                                                                         \n",
       "4                                                NaN                                                                                         \n",
       "\n",
       "  This question is about your productivity. Productivity means what you produce for each hour that you work. It includes the amount of work you achieve each hour, and the quality of your work each hour.    Please compare your productivity when you work remotely to when you work at your employer’s workplace.    Roughly how productive are you, each hour, when you work remotely?    \\\n",
       "0  I’m 50% more productive when working remotely ...                                                                                                                                                                                                                                                                                                                                           \n",
       "1  I’m 50% more productive when working remotely ...                                                                                                                                                                                                                                                                                                                                           \n",
       "2  My productivity is about same when I work remo...                                                                                                                                                                                                                                                                                                                                           \n",
       "3  I’m 50% more productive when working remotely ...                                                                                                                                                                                                                                                                                                                                           \n",
       "4      I’m 20% more productive when working remotely                                                                                                                                                                                                                                                                                                                                           \n",
       "\n",
       "  Now think about the productivity of the employees you manage.   Roughly how productive are the employees you manage, each hour, when they work remotely?    \n",
       "0                                                NaN                                                                                                          \n",
       "1                                                NaN                                                                                                          \n",
       "2                                                NaN                                                                                                          \n",
       "3  I’m 50% more productive when working remotely ...                                                                                                          \n",
       "4                                                NaN                                                                                                          \n",
       "\n",
       "[5 rows x 109 columns]"
      ]
     },
     "execution_count": 4,
     "metadata": {},
     "output_type": "execute_result"
    }
   ],
   "source": [
    "## View dataset\n",
    "df_2021.head()"
   ]
  },
  {
   "cell_type": "code",
   "execution_count": 5,
   "id": "cd8dd1d9",
   "metadata": {},
   "outputs": [
    {
     "data": {
      "text/plain": [
       "Index(['Response ID', 'What year were you born?  ', 'What is your gender?  ',\n",
       "       'How long have you been in your current job?  If you have more than one job, please answer all questions for your main job.  ',\n",
       "       'Which of the following best describes your industry?  ',\n",
       "       'Which of the following best describes your current occupation?  ',\n",
       "       'How many people are currently employed by your organisation?   ',\n",
       "       'Which of the following best describes your household?  ',\n",
       "       'Metro or Regional',\n",
       "       'Thinking about your current job, how much of your work time did you spend working remotely in the last quarter of last year?   This means October-December 2020  If you work a 5 day week, each day of remote working equals 20% of your time.  ',\n",
       "       ...\n",
       "       'How strongly do you agree or disagree with the following statements?    - Offering remote work helps me retain employees',\n",
       "       'How strongly do you agree or disagree with the following statements?    - Offering remote work helps me to recruit employees',\n",
       "       'How strongly do you agree or disagree with the following statements?    - My team works well together when they work remotely',\n",
       "       'How strongly do you agree or disagree with the following statements?    - I find it easy to manage employees remotely (e.g. tasking and monitoring progress)',\n",
       "       'How strongly do you agree or disagree with the following statements?    - I find it easy to manage poor performers remotely',\n",
       "       'How strongly do you agree or disagree with the following statements?    - I feel well-prepared to manage employees remotely',\n",
       "       'How strongly do you agree or disagree with the following statements?    - Managing people remotely makes me more focused on results',\n",
       "       'How strongly do you agree or disagree with the following statements?    - I find it easy to contact my employees when they work remotely',\n",
       "       'This question is about your productivity. Productivity means what you produce for each hour that you work. It includes the amount of work you achieve each hour, and the quality of your work each hour.    Please compare your productivity when you work remotely to when you work at your employer’s workplace.    Roughly how productive are you, each hour, when you work remotely?  ',\n",
       "       'Now think about the productivity of the employees you manage.   Roughly how productive are the employees you manage, each hour, when they work remotely?  '],\n",
       "      dtype='object', length=109)"
      ]
     },
     "execution_count": 5,
     "metadata": {},
     "output_type": "execute_result"
    }
   ],
   "source": [
    "## View column names\n",
    "df_2021.columns"
   ]
  },
  {
   "cell_type": "code",
   "execution_count": 7,
   "id": "4259708f",
   "metadata": {},
   "outputs": [
    {
     "name": "stdout",
     "output_type": "stream",
     "text": [
      "Column Response ID has 0 null values\n",
      "Column What year were you born?   has 0 null values\n",
      "Column What is your gender?   has 0 null values\n",
      "Column How long have you been in your current job?  If you have more than one job, please answer all questions for your main job.   has 0 null values\n",
      "Column Which of the following best describes your industry?   has 0 null values\n",
      "Column Which of the following best describes your current occupation?   has 0 null values\n",
      "Column How many people are currently employed by your organisation?    has 0 null values\n",
      "Column Which of the following best describes your household?   has 0 null values\n",
      "Column Metro or Regional has 0 null values\n",
      "Column Thinking about your current job, how much of your work time did you spend working remotely in the last quarter of last year?   This means October-December 2020  If you work a 5 day week, each day of remote working equals 20% of your time.   has 0 null values\n",
      "Column How much of your work time would you have preferred to work remotely during the last quarter of last year?   This means October-December 2020  If you work a 5 day week, each day of remote working equals 20% of your time.   has 0 null values\n",
      "Column Thinking about your current job, how much of your work time have you spent working remotely this year?  If you work a 5 day week, each day of remote working equals 20% of your time.   has 0 null values\n",
      "Column How much of your work time would you have preferred to work remotely so far this year?  If you work a 5 day week, each day of remote working equals 20% of your time.   has 0 null values\n",
      "Column Imagine that COVID-19 is cured or eradicated.   Going forward, how much of your work time would you prefer to work remotely?  If you work a 5 day week, each day of remote working equals 20% of your time.   has 0 null values\n",
      "Column These questions are about the remote working arrangements in your organisation.  Has your employer changed or updated their policy on remote work since COVID-19?   This means since February/March 2020   has 0 null values\n",
      "Column In the past 6 months, have you ever worked part of your day remotely, and part of it at your employer’s workplace? has 0 null values\n",
      "Column How often do you work this way?   has 591 null values\n",
      "Column How often would you like to work this way?   has 591 null values\n",
      "Column Does your employer have a policy that workers must be at the employer’s workplace some of the time?   has 0 null values\n",
      "Column How much of your work time does your employer’s policy require you to be at their workplace?  If you work a 5 day week, 1 day equals 20% of your work time.   has 750 null values\n",
      "Column Thinking about your employer’s policy on remote working, how strongly do you agree or disagree with the following statements?   Please select a single response per row   - My employer’s remote working policy suits me has 0 null values\n",
      "Column Thinking about your employer’s policy on remote working, how strongly do you agree or disagree with the following statements?   Please select a single response per row   - I get to choose how much work I do remotely has 0 null values\n",
      "Column Thinking about your employer’s policy on remote working, how strongly do you agree or disagree with the following statements?   Please select a single response per row   - I choose which days I work remotely has 0 null values\n",
      "Column Thinking about your employer’s policy on remote working, how strongly do you agree or disagree with the following statements?   Please select a single response per row   - My direct manager has discretion to allow or deny remote work has 0 null values\n",
      "Column How do you feel about your employer’s remote working policy?   has 0 null values\n",
      "Column Thinking about remote working in the last 6 months, how strongly do you agree or disagree with the following statements?   Please select a single response per row   - My organisation encouraged people to work remotely has 0 null values\n",
      "Column Thinking about remote working in the last 6 months, how strongly do you agree or disagree with the following statements?   Please select a single response per row   - My organisation was well prepared for me to work remotely has 0 null values\n",
      "Column Thinking about remote working in the last 6 months, how strongly do you agree or disagree with the following statements?   Please select a single response per row   - It was common for people in my organisation to work remotely has 0 null values\n",
      "Column Thinking about remote working in the last 6 months, how strongly do you agree or disagree with the following statements?   Please select a single response per row   - It was easy to get permission to work remotely has 0 null values\n",
      "Column Thinking about remote working in the last 6 months, how strongly do you agree or disagree with the following statements?   Please select a single response per row   - I could easily collaborate with colleagues when working remotely has 0 null values\n",
      "Column Thinking about remote working in the last 6 months, how strongly do you agree or disagree with the following statements?   Please select a single response per row   - Working remotely reduces my chances of promotion has 0 null values\n",
      "Column Thinking about remote working in the last 6 months, how strongly do you agree or disagree with the following statements?   Please select a single response per row   - I take more regular breaks while working remotely has 0 null values\n",
      "Column Do you think remote working is a positive or a negative for your employer?   has 0 null values\n",
      "Column Who is most supportive of remote working in your organisation?   has 0 null values\n",
      "Column Imagine that COVID-19 is cured or eradicated.    How likely would you consider the following statements?   - My employer would encourage more remote working has 0 null values\n",
      "Column Imagine that COVID-19 is cured or eradicated.    How likely would you consider the following statements?   - My employer would make changes to support remote working has 0 null values\n",
      "Column Imagine that COVID-19 is cured or eradicated.    How likely would you consider the following statements?   - I would have more choice about whether I work remotely has 0 null values\n",
      "Column Think about your experience this year. On a day when you attend your employer's workplace, how many hours would you spend doing the following activities?   For example, a response of ‘1’ means 1 hour.  A response of ‘0.5’ means half an hour.   Your responses should add to 24 hours.   - Preparing for work and commuting has 3 null values\n",
      "Column Think about your experience this year. On a day when you attend your employer's workplace, how many hours would you spend doing the following activities?   For example, a response of ‘1’ means 1 hour.  A response of ‘0.5’ means half an hour.   Your responses should add to 24 hours.   - Working has 3 null values\n",
      "Column Think about your experience this year. On a day when you attend your employer's workplace, how many hours would you spend doing the following activities?   For example, a response of ‘1’ means 1 hour.  A response of ‘0.5’ means half an hour.   Your responses should add to 24 hours.   - Caring and domestic responsibilities has 17 null values\n",
      "Column Think about your experience this year. On a day when you attend your employer's workplace, how many hours would you spend doing the following activities?   For example, a response of ‘1’ means 1 hour.  A response of ‘0.5’ means half an hour.   Your responses should add to 24 hours.   - Personal and family time has 5 null values\n",
      "Column Think about your experience this year. On a day when you attend your employer's workplace, how many hours would you spend doing the following activities?   For example, a response of ‘1’ means 1 hour.  A response of ‘0.5’ means half an hour.   Your responses should add to 24 hours.   - Sleep has 12 null values\n",
      "Column Think about your experience this year. On a day when you work remotely, how many hours would you spend doing the following activities?  For example, a response of ‘1’ means 1 hour.  A response of ‘0.5’ means half an hour.   Your responses should add to 24 hours.   - Preparing for work and commuting has 24 null values\n",
      "Column Think about your experience this year. On a day when you work remotely, how many hours would you spend doing the following activities?  For example, a response of ‘1’ means 1 hour.  A response of ‘0.5’ means half an hour.   Your responses should add to 24 hours.   - Working has 3 null values\n",
      "Column Think about your experience this year. On a day when you work remotely, how many hours would you spend doing the following activities?  For example, a response of ‘1’ means 1 hour.  A response of ‘0.5’ means half an hour.   Your responses should add to 24 hours.   - Caring and domestic responsibilities has 18 null values\n",
      "Column Think about your experience this year. On a day when you work remotely, how many hours would you spend doing the following activities?  For example, a response of ‘1’ means 1 hour.  A response of ‘0.5’ means half an hour.   Your responses should add to 24 hours.   - Personal and family time has 7 null values\n",
      "Column Think about your experience this year. On a day when you work remotely, how many hours would you spend doing the following activities?  For example, a response of ‘1’ means 1 hour.  A response of ‘0.5’ means half an hour.   Your responses should add to 24 hours.   - Sleep has 9 null values\n",
      "Column Imagine your employer offered you the option to work remotely whenever you chose, in return for negotiating a pay cut that you both agree on.  Would you be interested in negotiating?    has 0 null values\n",
      "Column What is the biggest pay cut you would accept?   Please give your answer as a percentage.   has 1027 null values\n",
      "Column Have the following barriers to remote working improved or worsened for you over the past 6 months?   - My caring responsibilities has 0 null values\n",
      "Column Have the following barriers to remote working improved or worsened for you over the past 6 months?   - Connectivity (for example internet) has 0 null values\n",
      "Column Have the following barriers to remote working improved or worsened for you over the past 6 months?   - My organisation's software and systems has 0 null values\n",
      "Column Have the following barriers to remote working improved or worsened for you over the past 6 months?   - Difficulty collaborating remotely has 0 null values\n",
      "Column Have the following barriers to remote working improved or worsened for you over the past 6 months?   - Poor management has 0 null values\n",
      "Column Have the following barriers to remote working improved or worsened for you over the past 6 months?   - IT equipment (computer or printer) has 0 null values\n",
      "Column Have the following barriers to remote working improved or worsened for you over the past 6 months?   - Feeling left out and/or isolated has 0 null values\n",
      "Column Have the following barriers to remote working improved or worsened for you over the past 6 months?   - Extra costs has 0 null values\n",
      "Column Have the following barriers to remote working improved or worsened for you over the past 6 months?   - Cyber security has 0 null values\n",
      "Column Have the following barriers to remote working improved or worsened for you over the past 6 months?   - I have tasks that can't be done remotely has 0 null values\n",
      "Column Have the following barriers to remote working improved or worsened for you over the past 6 months?   - My workspace (e.g. suitable chair, lighting, noise levels, facilities) has 0 null values\n",
      "Column Have the following barriers to remote working improved or worsened for you over the past 6 months?   - Motivation has 0 null values\n",
      "Column Have the following barriers to remote working improved or worsened for you over the past 6 months?   - Management discourages remote working has 0 null values\n",
      "Column Have the following barriers to remote working improved or worsened for you over the past 6 months?   - My living situation (e.g. location, home size, who I live with) has 0 null values\n",
      "Column Have the following barriers to remote working improved or worsened for you over the past 6 months?   - Lack of remote working skills has 0 null values\n",
      "Column Have the following barriers to remote working improved or worsened for you over the past 6 months?   - My health and safety when working remotely has 0 null values\n",
      "Column Think about when you worked at your employer’s workplace and some of your colleagues were working remotely. What were the biggest barriers of working this way? - Noisy work environment ; Interruptions ; Difficulty collaborating with remote colleagues ; Lack of privacy has 616 null values\n",
      "Column Think about when you worked at your employer’s workplace and some of your colleagues were working remotely. What were the smallest barriers of working this way? - Noisy work environment ; Interruptions ; Difficulty collaborating with remote colleagues ; Lack of privacy has 616 null values\n",
      "Column Think about when you worked at your employer’s workplace and some of your colleagues were working remotely. What were the biggest barriers of working this way? - Connectivity/internet issues ; Lack of appropriate work and meeting spaces ; Problems with audio-visual setup ; Lack of privacy has 616 null values\n",
      "Column Think about when you worked at your employer’s workplace and some of your colleagues were working remotely. What were the smallest barriers of working this way? - Connectivity/internet issues ; Lack of appropriate work and meeting spaces ; Problems with audio-visual setup ; Lack of privacy has 616 null values\n",
      "Column Think about when you worked at your employer’s workplace and some of your colleagues were working remotely. What were the biggest barriers of working this way? - Interruptions ; Connectivity/internet issues ; Lack of appropriate work and meeting spaces ; Difficulty innovating has 616 null values\n",
      "Column Think about when you worked at your employer’s workplace and some of your colleagues were working remotely. What were the smallest barriers of working this way? - Interruptions ; Connectivity/internet issues ; Lack of appropriate work and meeting spaces ; Difficulty innovating has 616 null values\n",
      "Column Think about when you worked at your employer’s workplace and some of your colleagues were working remotely. What were the biggest barriers of working this way? - Connectivity/internet issues ; Difficulty collaborating with remote colleagues ; Difficulty innovating ; Lack of privacy has 616 null values\n",
      "Column Think about when you worked at your employer’s workplace and some of your colleagues were working remotely. What were the smallest barriers of working this way? - Connectivity/internet issues ; Difficulty collaborating with remote colleagues ; Difficulty innovating ; Lack of privacy has 616 null values\n",
      "Column Think about when you worked at your employer’s workplace and some of your colleagues were working remotely. What were the biggest barriers of working this way? - Noisy work environment ; Interruptions ; Connectivity/internet issues ; Difficulty innovating has 616 null values\n",
      "Column Think about when you worked at your employer’s workplace and some of your colleagues were working remotely. What were the smallest barriers of working this way? - Noisy work environment ; Interruptions ; Connectivity/internet issues ; Difficulty innovating has 616 null values\n",
      "Column Think about when you worked at your employer’s workplace and some of your colleagues were working remotely. What were the biggest barriers of working this way? - Noisy work environment ; Interruptions ; Lack of appropriate work and meeting spaces ; Problems with audio-visual setup has 616 null values\n",
      "Column Think about when you worked at your employer’s workplace and some of your colleagues were working remotely. What were the smallest barriers of working this way? - Noisy work environment ; Interruptions ; Lack of appropriate work and meeting spaces ; Problems with audio-visual setup has 616 null values\n",
      "Column Think about when you worked at your employer’s workplace and some of your colleagues were working remotely. What were the biggest barriers of working this way? - Interruptions ; Connectivity/internet issues ; Problems with audio-visual setup ; Difficulty collaborating with remote colleagues has 616 null values\n",
      "Column Think about when you worked at your employer’s workplace and some of your colleagues were working remotely. What were the smallest barriers of working this way? - Interruptions ; Connectivity/internet issues ; Problems with audio-visual setup ; Difficulty collaborating with remote colleagues has 616 null values\n",
      "Column Think about when you worked at your employer’s workplace and some of your colleagues were working remotely. What were the biggest barriers of working this way? - Noisy work environment ; Lack of appropriate work and meeting spaces ; Difficulty innovating ; Lack of privacy has 616 null values\n",
      "Column Think about when you worked at your employer’s workplace and some of your colleagues were working remotely. What were the smallest barriers of working this way? - Noisy work environment ; Lack of appropriate work and meeting spaces ; Difficulty innovating ; Lack of privacy has 616 null values\n",
      "Column Think about when you worked at your employer’s workplace and some of your colleagues were working remotely. What were the biggest barriers of working this way? - Noisy work environment ; Connectivity/internet issues ; Lack of appropriate work and meeting spaces ; Difficulty collaborating with remote colleagues has 616 null values\n",
      "Column Think about when you worked at your employer’s workplace and some of your colleagues were working remotely. What were the smallest barriers of working this way? - Noisy work environment ; Connectivity/internet issues ; Lack of appropriate work and meeting spaces ; Difficulty collaborating with remote colleagues has 616 null values\n",
      "Column Think about when you worked at your employer’s workplace and some of your colleagues were working remotely. What were the biggest barriers of working this way? - Interruptions ; Problems with audio-visual setup ; Difficulty innovating ; Lack of privacy has 616 null values\n",
      "Column Think about when you worked at your employer’s workplace and some of your colleagues were working remotely. What were the smallest barriers of working this way? - Interruptions ; Problems with audio-visual setup ; Difficulty innovating ; Lack of privacy has 616 null values\n",
      "Column Think about when you worked at your employer’s workplace and some of your colleagues were working remotely. What were the biggest barriers of working this way? - Lack of appropriate work and meeting spaces ; Problems with audio-visual setup ; Difficulty collaborating with remote colleagues ; Difficulty innovating has 616 null values\n",
      "Column Think about when you worked at your employer’s workplace and some of your colleagues were working remotely. What were the smallest barriers of working this way? - Lack of appropriate work and meeting spaces ; Problems with audio-visual setup ; Difficulty collaborating with remote colleagues ; Difficulty innovating has 616 null values\n",
      "Column Think about when you worked at your employer’s workplace and some of your colleagues were working remotely. What were the biggest barriers of working this way? - Noisy work environment ; Connectivity/internet issues ; Problems with audio-visual setup ; Lack of privacy has 616 null values\n",
      "Column Think about when you worked at your employer’s workplace and some of your colleagues were working remotely. What were the smallest barriers of working this way? - Noisy work environment ; Connectivity/internet issues ; Problems with audio-visual setup ; Lack of privacy has 616 null values\n",
      "Column Think about when you worked at your employer’s workplace and some of your colleagues were working remotely. What were the biggest barriers of working this way? - Interruptions ; Lack of appropriate work and meeting spaces ; Difficulty collaborating with remote colleagues ; Lack of privacy has 616 null values\n",
      "Column Think about when you worked at your employer’s workplace and some of your colleagues were working remotely. What were the smallest barriers of working this way? - Interruptions ; Lack of appropriate work and meeting spaces ; Difficulty collaborating with remote colleagues ; Lack of privacy has 616 null values\n",
      "Column Think about when you worked at your employer’s workplace and some of your colleagues were working remotely. What were the biggest barriers of working this way? - Noisy work environment ; Problems with audio-visual setup ; Difficulty collaborating with remote colleagues ; Difficulty innovating has 616 null values\n",
      "Column Think about when you worked at your employer’s workplace and some of your colleagues were working remotely. What were the smallest barriers of working this way? - Noisy work environment ; Problems with audio-visual setup ; Difficulty collaborating with remote colleagues ; Difficulty innovating has 616 null values\n",
      "Column How strongly do you agree or disagree with the following statements?   - On days when I work remotely I feel better has 0 null values\n",
      "Column How strongly do you agree or disagree with the following statements?   - On days when I work remotely I am more active has 0 null values\n",
      "Column How strongly do you agree or disagree with the following statements?   - I feel better on days when I see my colleagues in person has 0 null values\n",
      "Column Do you manage people as part of your current job?   has 0 null values\n",
      "Column Do employees you manage ever work remotely?   has 815 null values\n",
      "Column How strongly do you agree or disagree with the following statements?    - I have discretion to offer or deny remote work to employees I manage has 917 null values\n",
      "Column How strongly do you agree or disagree with the following statements?    - Offering remote work helps me retain employees has 917 null values\n",
      "Column How strongly do you agree or disagree with the following statements?    - Offering remote work helps me to recruit employees has 917 null values\n",
      "Column How strongly do you agree or disagree with the following statements?    - My team works well together when they work remotely has 917 null values\n",
      "Column How strongly do you agree or disagree with the following statements?    - I find it easy to manage employees remotely (e.g. tasking and monitoring progress) has 917 null values\n",
      "Column How strongly do you agree or disagree with the following statements?    - I find it easy to manage poor performers remotely has 917 null values\n",
      "Column How strongly do you agree or disagree with the following statements?    - I feel well-prepared to manage employees remotely has 917 null values\n",
      "Column How strongly do you agree or disagree with the following statements?    - Managing people remotely makes me more focused on results has 917 null values\n",
      "Column How strongly do you agree or disagree with the following statements?    - I find it easy to contact my employees when they work remotely has 917 null values\n",
      "Column This question is about your productivity. Productivity means what you produce for each hour that you work. It includes the amount of work you achieve each hour, and the quality of your work each hour.    Please compare your productivity when you work remotely to when you work at your employer’s workplace.    Roughly how productive are you, each hour, when you work remotely?   has 0 null values\n",
      "Column Now think about the productivity of the employees you manage.   Roughly how productive are the employees you manage, each hour, when they work remotely?   has 815 null values\n"
     ]
    }
   ],
   "source": [
    "# Check for null values in each column\n",
    "for column in df_2021.columns:\n",
    "    print(f\"Column {column} has {df_2021[column].isnull().sum()} null values\")"
   ]
  },
  {
   "cell_type": "code",
   "execution_count": 8,
   "id": "a603a073",
   "metadata": {},
   "outputs": [
    {
     "data": {
      "text/plain": [
       "0"
      ]
     },
     "execution_count": 8,
     "metadata": {},
     "output_type": "execute_result"
    }
   ],
   "source": [
    "# Check for duplicate rows\n",
    "df_2021.duplicated().sum()"
   ]
  },
  {
   "cell_type": "markdown",
   "id": "67500a72",
   "metadata": {},
   "source": [
    "## Step 2: Examine demographics"
   ]
  },
  {
   "cell_type": "code",
   "execution_count": 10,
   "id": "72060186",
   "metadata": {},
   "outputs": [
    {
     "data": {
      "text/plain": [
       "Female                    785\n",
       "Male                      723\n",
       "I would rather not say      3\n",
       "Other                       1\n",
       "Name: What is your gender?  , dtype: int64"
      ]
     },
     "execution_count": 10,
     "metadata": {},
     "output_type": "execute_result"
    }
   ],
   "source": [
    "# Gender\n",
    "df_2021['What is your gender?  '].value_counts()"
   ]
  },
  {
   "cell_type": "code",
   "execution_count": 12,
   "id": "ad266f27",
   "metadata": {},
   "outputs": [
    {
     "data": {
      "text/plain": [
       "count    1512.000000\n",
       "mean     1979.226190\n",
       "std        11.836707\n",
       "min      1957.000000\n",
       "25%      1970.000000\n",
       "50%      1980.000000\n",
       "75%      1989.000000\n",
       "max      2002.000000\n",
       "Name: What year were you born?  , dtype: float64"
      ]
     },
     "execution_count": 12,
     "metadata": {},
     "output_type": "execute_result"
    }
   ],
   "source": [
    "# Age\n",
    "df_2021['What year were you born?  '].describe()"
   ]
  },
  {
   "cell_type": "code",
   "execution_count": 15,
   "id": "63c5b116",
   "metadata": {},
   "outputs": [
    {
     "data": {
      "text/plain": [
       "Financial and Insurance                     204\n",
       "Professional, Scientific and Technical      163\n",
       "Education and Training                      150\n",
       "Information Media and Telecommunications    149\n",
       "Other Services                              132\n",
       "Health Care and Social Assistance           116\n",
       "Retail Trade                                 86\n",
       "Construction                                 71\n",
       "Administrative and Support                   70\n",
       "Manufacturing                                67\n",
       "Public Administration and Safety             66\n",
       "Wholesale Trade                              50\n",
       "Transport, Postal and Warehousing            47\n",
       "Arts and Recreation                          35\n",
       "Electricity, Gas, Water and Waste            28\n",
       "Accommodation and Food                       27\n",
       "Rental, Hiring and Real Estate               22\n",
       "Mining                                       15\n",
       "Agriculture, Forestry and Fishing            14\n",
       "Name: Which of the following best describes your industry?  , dtype: int64"
      ]
     },
     "execution_count": 15,
     "metadata": {},
     "output_type": "execute_result"
    }
   ],
   "source": [
    "# Industry\n",
    "df_2021['Which of the following best describes your industry?  '].value_counts()"
   ]
  },
  {
   "cell_type": "code",
   "execution_count": 16,
   "id": "73aeecef",
   "metadata": {},
   "outputs": [
    {
     "data": {
      "text/plain": [
       "Financial and Insurance                     204\n",
       "Professional, Scientific and Technical      163\n",
       "Education and Training                      150\n",
       "Information Media and Telecommunications    149\n",
       "Other Services                              132\n",
       "Health Care and Social Assistance           116\n",
       "Retail Trade                                 86\n",
       "Construction                                 71\n",
       "Administrative and Support                   70\n",
       "Manufacturing                                67\n",
       "Public Administration and Safety             66\n",
       "Wholesale Trade                              50\n",
       "Transport, Postal and Warehousing            47\n",
       "Arts and Recreation                          35\n",
       "Electricity, Gas, Water and Waste            28\n",
       "Accommodation and Food                       27\n",
       "Rental, Hiring and Real Estate               22\n",
       "Mining                                       15\n",
       "Agriculture, Forestry and Fishing            14\n",
       "Name: Which of the following best describes your industry?  , dtype: int64"
      ]
     },
     "execution_count": 16,
     "metadata": {},
     "output_type": "execute_result"
    }
   ],
   "source": [
    "# Employer organization size\n",
    "df_2021['Which of the following best describes your industry?  '].value_counts()"
   ]
  },
  {
   "cell_type": "code",
   "execution_count": 17,
   "id": "760ce57d",
   "metadata": {},
   "outputs": [
    {
     "data": {
      "text/plain": [
       "More than 200                        752\n",
       "Between 20 and 199                   445\n",
       "Between 5 and 19                     184\n",
       "Between 1 and 4                       81\n",
       "I am a sole trader/owner-operator     50\n",
       "Name: How many people are currently employed by your organisation?   , dtype: int64"
      ]
     },
     "execution_count": 17,
     "metadata": {},
     "output_type": "execute_result"
    }
   ],
   "source": [
    "# Employer organization size\n",
    "df_2021['How many people are currently employed by your organisation?   '].value_counts()"
   ]
  },
  {
   "cell_type": "code",
   "execution_count": 19,
   "id": "3cbd0ada",
   "metadata": {},
   "outputs": [
    {
     "data": {
      "text/plain": [
       "Metro       1159\n",
       "Regional     353\n",
       "Name: Metro or Regional, dtype: int64"
      ]
     },
     "execution_count": 19,
     "metadata": {},
     "output_type": "execute_result"
    }
   ],
   "source": [
    "# Geographic description: Metro/Regional\n",
    "df_2021['Metro or Regional'].value_counts()"
   ]
  },
  {
   "cell_type": "code",
   "execution_count": 21,
   "id": "1642df09",
   "metadata": {},
   "outputs": [
    {
     "data": {
      "text/plain": [
       "100% - I spent all of my time remote working          366\n",
       "50% - I spent about half of my time remote working    182\n",
       "20%                                                   142\n",
       "Less than 10% of my time                              123\n",
       "90%                                                   111\n",
       "30%                                                   103\n",
       "80%                                                   102\n",
       "Rarely or never                                        97\n",
       "40%                                                    85\n",
       "10%                                                    77\n",
       "60%                                                    68\n",
       "70%                                                    56\n",
       "Name: Thinking about your current job, how much of your work time did you spend working remotely in the last quarter of last year?   This means October-December 2020  If you work a 5 day week, each day of remote working equals 20% of your time.  , dtype: int64"
      ]
     },
     "execution_count": 21,
     "metadata": {},
     "output_type": "execute_result"
    }
   ],
   "source": [
    "## Proportion of role that is completed remotely\n",
    "df_2021[\"Thinking about your current job, how much of your work time did you spend working remotely in the last quarter of last year?   This means October-December 2020  If you work a 5 day week, each day of remote working equals 20% of your time.  \"].value_counts()"
   ]
  },
  {
   "cell_type": "code",
   "execution_count": 25,
   "id": "5ea17a75",
   "metadata": {},
   "outputs": [
    {
     "data": {
      "text/plain": [
       "Less than 10% of my time       212\n",
       "20%                            140\n",
       "50% - About half of my time    134\n",
       "10%                             95\n",
       "30%                             89\n",
       "40%                             67\n",
       "100% - All of my time           45\n",
       "60%                             43\n",
       "80%                             34\n",
       "70%                             32\n",
       "90%                             30\n",
       "Name: How often do you work this way?  , dtype: int64"
      ]
     },
     "execution_count": 25,
     "metadata": {},
     "output_type": "execute_result"
    }
   ],
   "source": [
    "# Frequency of remote work\n",
    "df_2021['How often do you work this way?  '].value_counts()"
   ]
  },
  {
   "cell_type": "markdown",
   "id": "d3c76ba0",
   "metadata": {},
   "source": [
    "## Step 3: Examine features - Productivity"
   ]
  },
  {
   "cell_type": "code",
   "execution_count": 27,
   "id": "911da63b",
   "metadata": {},
   "outputs": [
    {
     "data": {
      "text/plain": [
       "My productivity is about same when I work remotely          330\n",
       "I’m 50% more productive when working remotely (or more)     278\n",
       "I’m 30% more productive when working remotely               237\n",
       "I’m 20% more productive when working remotely               229\n",
       "I’m 10% more productive when working remotely               111\n",
       "I’m 40% more productive when working remotely               111\n",
       "I’m 20% less productive when working remotely                74\n",
       "I’m 10% less productive when working remotely                71\n",
       "I’m 30% less productive when working remotely                38\n",
       "I’m 50% less productive when working remotely (or worse)     23\n",
       "I’m 40% less productive when working remotely                10\n",
       "Name: This question is about your productivity. Productivity means what you produce for each hour that you work. It includes the amount of work you achieve each hour, and the quality of your work each hour.    Please compare your productivity when you work remotely to when you work at your employer’s workplace.    Roughly how productive are you, each hour, when you work remotely?  , dtype: int64"
      ]
     },
     "execution_count": 27,
     "metadata": {},
     "output_type": "execute_result"
    }
   ],
   "source": [
    "# Target - productivity\n",
    "df_2021['This question is about your productivity. Productivity means what you produce for each hour that you work. It includes the amount of work you achieve each hour, and the quality of your work each hour.    Please compare your productivity when you work remotely to when you work at your employer’s workplace.    Roughly how productive are you, each hour, when you work remotely?  '].value_counts()"
   ]
  },
  {
   "cell_type": "code",
   "execution_count": null,
   "id": "7bea2886",
   "metadata": {},
   "outputs": [],
   "source": [
    "# Target - Preferences for remote\n"
   ]
  }
 ],
 "metadata": {
  "kernelspec": {
   "display_name": "PythonData",
   "language": "python",
   "name": "pythondata"
  },
  "language_info": {
   "codemirror_mode": {
    "name": "ipython",
    "version": 3
   },
   "file_extension": ".py",
   "mimetype": "text/x-python",
   "name": "python",
   "nbconvert_exporter": "python",
   "pygments_lexer": "ipython3",
   "version": "3.7.13"
  }
 },
 "nbformat": 4,
 "nbformat_minor": 5
}
